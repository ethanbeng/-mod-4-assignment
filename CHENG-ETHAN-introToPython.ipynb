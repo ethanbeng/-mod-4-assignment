{
 "cells": [
  {
   "cell_type": "markdown",
   "id": "32bdc3ca",
   "metadata": {},
   "source": [
    "# Student Details\n",
    "ID Number: 201156\n",
    "Surname: Cheng\n",
    "Year and Course: 3 BS ITE"
   ]
  },
  {
   "cell_type": "code",
   "execution_count": 1,
   "id": "59ad9ec4",
   "metadata": {},
   "outputs": [
    {
     "name": "stdout",
     "output_type": "stream",
     "text": [
      "The average is 2.0\n"
     ]
    }
   ],
   "source": [
    "def three_number_average(a,b,c):\n",
    "    average=(int(a)+int(b)+int(c))/3\n",
    "    return average\n",
    "firstnumber=input('Enter first number:')\n",
    "secondnumber=input('Enter second number:')\n",
    "thirdnumber=input('Enter third number:')\n",
    "print('The average is', three_number_average(firstnumber, secondnumber, thirdnumber))"
   ]
  },
  {
   "cell_type": "code",
   "execution_count": null,
   "id": "b1c1f193",
   "metadata": {},
   "outputs": [],
   "source": []
  }
 ],
 "metadata": {
  "kernelspec": {
   "display_name": "Python 3",
   "language": "python",
   "name": "python3"
  },
  "language_info": {
   "codemirror_mode": {
    "name": "ipython",
    "version": 3
   },
   "file_extension": ".py",
   "mimetype": "text/x-python",
   "name": "python",
   "nbconvert_exporter": "python",
   "pygments_lexer": "ipython3",
   "version": "3.10.6"
  },
  "vscode": {
   "interpreter": {
    "hash": "f5ff168696553f3e2cb115c273c46eeb315c32b0d0536992c4bad2740a7f9469"
   }
  }
 },
 "nbformat": 4,
 "nbformat_minor": 5
}
